{
 "cells": [
  {
   "cell_type": "code",
   "execution_count": 321,
   "metadata": {},
   "outputs": [],
   "source": [
    "import pandas\n",
    "import numpy\n",
    "import matplotlib\n",
    "import matplotlib.pylab\n",
    "import matplotlib.pyplot"
   ]
  },
  {
   "cell_type": "code",
   "execution_count": 322,
   "metadata": {},
   "outputs": [],
   "source": [
    "li = 'matplotlib.pyplot'\n",
    "f1 = open('G:/zzc程序/'+li+'.txt','a+')\n",
    "#f1.close()"
   ]
  },
  {
   "cell_type": "code",
   "execution_count": 323,
   "metadata": {},
   "outputs": [],
   "source": [
    "def out(li):\n",
    "    try:\n",
    "        dir(eval(li))\n",
    "        a = [x for x in dir(eval(li)) if x[0]!='_']\n",
    "        if len(a)>0:\n",
    "            f1.write('<Module name='+'\\\"'+li+'\\\">'+'\\n')\n",
    "            sample_list = ['    <item>'+line+'</item>'+'\\n' for line in a]\n",
    "            f1.writelines(sample_list)\n",
    "            f1.write('</Module>'+'\\n')\n",
    "            #li = [li+'.'+x for x in dir(eval(li))]\n",
    "            for i in a:\n",
    "                out2(li+'.'+i)\n",
    "    except:\n",
    "        pass\n",
    "        "
   ]
  },
  {
   "cell_type": "code",
   "execution_count": 324,
   "metadata": {},
   "outputs": [],
   "source": [
    "def out2(li):\n",
    "    try:\n",
    "        dir(eval(li))\n",
    "        a = [x for x in dir(eval(li)) if x[0]!='_']\n",
    "        if len(a)>0:\n",
    "            f1.write('<Module name='+'\\\"'+li+'\\\">'+'\\n')\n",
    "            sample_list = ['    <item>'+line+'</item>'+'\\n' for line in a]\n",
    "            f1.writelines(sample_list)\n",
    "            f1.write('</Module>'+'\\n')\n",
    "            #li = [li+'.'+x for x in dir(eval(li))]\n",
    "            for j in a:\n",
    "                pass\n",
    "                #out3(li+'.'+j)\n",
    "                #暂时先不用多层次\n",
    "    except:\n",
    "        pass"
   ]
  },
  {
   "cell_type": "code",
   "execution_count": 325,
   "metadata": {},
   "outputs": [],
   "source": [
    "def out3(li):\n",
    "    try:\n",
    "        dir(eval(li))\n",
    "        a = [x for x in dir(eval(li)) if x[0]!='_']\n",
    "        print(a)\n",
    "        if len(a)>0:\n",
    "            print('hh')\n",
    "            f1.write('<Module name='+'\\\"'+li+'\\\">'+'\\n')\n",
    "            sample_list = ['    <item>'+line+'</item>'+'\\n' for line in a]\n",
    "            f1.writelines(sample_list)\n",
    "            f1.write('</Module>'+'\\n')\n",
    "            #li = [li+'.'+x for x in dir(eval(li))]\n",
    "\n",
    "    except:\n",
    "        pass\n",
    "        "
   ]
  },
  {
   "cell_type": "code",
   "execution_count": null,
   "metadata": {},
   "outputs": [],
   "source": []
  },
  {
   "cell_type": "code",
   "execution_count": 326,
   "metadata": {},
   "outputs": [],
   "source": [
    "out(li)\n",
    "\n",
    "f1.close()"
   ]
  },
  {
   "cell_type": "code",
   "execution_count": null,
   "metadata": {},
   "outputs": [],
   "source": [
    "\n",
    "        "
   ]
  },
  {
   "cell_type": "code",
   "execution_count": null,
   "metadata": {},
   "outputs": [],
   "source": []
  },
  {
   "cell_type": "code",
   "execution_count": null,
   "metadata": {},
   "outputs": [],
   "source": []
  },
  {
   "cell_type": "code",
   "execution_count": null,
   "metadata": {},
   "outputs": [],
   "source": []
  },
  {
   "cell_type": "code",
   "execution_count": null,
   "metadata": {},
   "outputs": [],
   "source": []
  }
 ],
 "metadata": {
  "kernelspec": {
   "display_name": "Python 3",
   "language": "python",
   "name": "python3"
  },
  "language_info": {
   "codemirror_mode": {
    "name": "ipython",
    "version": 3
   },
   "file_extension": ".py",
   "mimetype": "text/x-python",
   "name": "python",
   "nbconvert_exporter": "python",
   "pygments_lexer": "ipython3",
   "version": "3.5.3"
  }
 },
 "nbformat": 4,
 "nbformat_minor": 2
}
