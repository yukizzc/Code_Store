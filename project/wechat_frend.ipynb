{
 "cells": [
  {
   "cell_type": "code",
   "execution_count": 1,
   "metadata": {},
   "outputs": [
    {
     "name": "stdout",
     "output_type": "stream",
     "text": [
      "█\r"
     ]
    },
    {
     "name": "stderr",
     "output_type": "stream",
     "text": [
      "Getting uuid of QR code.\n",
      "Downloading QR code.\n",
      "Please scan the QR code to log in.\n",
      "Please press confirm on your phone.\n",
      "Loading the contact, this may take a little while.\n",
      "Login successfully as zzc\n"
     ]
    },
    {
     "name": "stdout",
     "output_type": "stream",
     "text": [
      "[<Friend: zzc>, <Friend: 李小妞>, <Friend: <span class=\"emoji emoji1f463\"></span> Aimee>, <Friend: 荣森>, <Friend: Evidence>, <Friend: Miles Yu>, <Friend: 心峰（建军）>, <Friend: 布鲁斯>, <Friend: Ella @情添[上海白领公益]>, <Friend: 陈佩民>, <Friend: 2b>, <Friend: KK>, <Friend: 谢春林>, <Friend: CC(安信证券)>, <Friend: 大年>, <Friend: ESSENCE 周>, <Friend: 王子远>, <Friend: 司汝超>, <Friend: 方钲雯>, <Friend: 郭培俊>, <Friend: 谭阶飞>, <Friend: 小木易（香港hu客户）>, <Friend: Jessie>, <Friend: 罗锦明>, <Friend: 李希>, <Friend: 吉林财神>, <Friend: 曾星-帝纳波利交易专家>, <Friend: prajña>, <Friend: Montford>, <Friend: 一介书生>, <Friend: 李哥>, <Friend: 张彦>, <Friend: 成也基金张展>, <Friend: rebornmax>, <Friend: 孟奕彤>, <Friend: 邹良>, <Friend: 梁生>, <Friend: VACHER>, <Friend: deng>, <Friend: 海韵>, <Friend: Sabin>, <Friend: 方小颖>, <Friend: 清文 不朽枯树>, <Friend: 阿武>, <Friend: 朱蜜>, <Friend: 王丰>, <Friend: 宛儿>, <Friend: 胡长俊>, <Friend: 景程>, <Friend: 李承祜>, <Friend: 老赵>, <Friend: 🏠有萌娃>, <Friend: 张上翔>, <Friend: 薛宇>, <Friend: bruce>, <Friend: 霸 天>, <Friend: 覃秉丰(AI MOOC)>, <Friend: 老树>, <Friend: AI MOOC小助手 (工作日10点-18点)>, <Friend: 李学平>, <Friend: 陈敬君>, <Friend: dony东>, <Friend: 勇敢的心>, <Friend: 齐放>, <Friend: 杨晓伟>, <Friend: 葫芦爷爷>, <Friend: 风程万里>, <Friend: 引弓射雕>, <Friend: 闫文彬>, <Friend: 段姐>, <Friend: 六维空间>, <Friend: 爸 爸>, <Friend: xuhanx>, <Friend: 君 陈>, <Friend: 灿>, <Friend: 籽尐K>, <Friend: Jackson Liu>, <Friend: 王梓鹏>, <Friend: Justo>, <Friend: 芳芳郁金香>, <Friend: L>, <Friend: 海>, <Friend: 徐新豪>, <Friend: 蓝色海洋>, <Friend: 永不言败>, <Friend: 春城>, <Friend: 启星>, <Friend: A-养性>, <Friend: ypp阿铁打>, <Friend: 广西八桂凌云茶业有限公司-雾中缘>, <Friend: 乐斌>, <Friend: 莯 头>, <Friend: 金银岛 张>, <Friend: 没羽箭>, <Friend: 小叮当>, <Friend: Lucky>, <Friend: ～鼎俊～>, <Friend: 道>, <Friend: 范浩>, <Friend: 图腾>, <Friend: 吴斌全>, <Friend: 傅家乐>, <Friend: 凌袭>, <Friend: 小悦悦mhig个人>, <Friend: 二十号>, <Friend: ye>, <Friend: 海的尽头>, <Friend: 美丽莎（Melissa）>, <Friend: 澍>, <Friend: Thunder>, <Friend: 冰之刃>, <Friend: H026867-陶丹丹>, <Friend: 盗听胡说>, <Friend: YY晓燕>, <Friend: 小飛象>, <Friend: 何康-华泰金工>, <Friend: Lu>, <Friend: 王笛>, <Friend: 随风>, <Friend: Julia朱丽娅>, <Friend: 不羁的王先生ω>, <Friend: 〇〇7>, <Friend: 许浩>, <Friend: 壹曰行>, <Friend: 朱济荣>, <Friend: 老狼>, <Friend: Ly>, <Friend: 中杰>, <Friend: 进击的鸡蛋壳>, <Friend: GANSO>, <Friend: Kara>, <Friend: 逍遥>, <Friend: 安东🐋>, <Friend: 不是风动>, <Friend: David>, <Friend: Seature>, <Friend: 旅程>, <Friend: colin>, <Friend: 微风的夏>, <Friend: 开心>, <Friend: 余锡盘>, <Friend: 奔跑的橙子>, <Friend: WU Chengxiao>, <Friend: jim>, <Friend: SYNERGYLABS❤美国西美洁总经销>, <Friend: wadered>, <Friend: 蒋程>, <Friend: A朴泰勒cium>, <Friend: 李凯>, <Friend: 李晓娟>, <Friend: 赵天龙Medwyn Zhao>, <Friend: jacky>, <Friend: 若无风>, <Friend: Shirley Zang>, <Friend: 静等>, <Friend: 丁敬>, <Friend: 郭中阳>, <Friend: kei>, <Friend: 卓代风华>, <Friend: 珠珠>, <Friend: samz>, <Friend: 萨克斯风>, <Friend: 查理（钱隆视贝）>, <Friend: edward>, <Friend: zhaoyi>, <Friend: 张计刚>, <Friend: 邓文杰|康腾投资>, <Friend: Silver>, <Friend: 涛声依旧>, <Friend: 量化投资与机器学习官方>, <Friend: 🔥艾斯>, <Friend: 思念>, <Friend: 聚宽小秘书>, <Friend: 欢乐 彭先生>, <Friend: 郭江雪>, <Friend: 朱理究   13750968188>, <Friend: 大鱼🐠（辜昱育）>, <Friend: 撒哈拉的一粒沙>, <Friend: 安然入梦>, <Friend: 彦>, <Friend: 发动机>, <Friend: 徳道吾易>, <Friend: 康 康>, <Friend: 曹生>, <Friend: 小辉哥>, <Friend: 老匡>, <Friend: 何伟>, <Friend: 👣航妹子🐝 🐽>, <Friend: 不值一提赵琦烨>, <Friend: 神锋无影>, <Friend: 柳锋>, <Friend: Datawhale>, <Friend: Mars>, <Friend: 范海青>, <Friend: 永浩>, <Friend: 田小东>, <Friend: Coisini>, <Friend: 枫叶>, <Friend: 👀>, <Friend: Tony>, <Friend: 肥仔鹏>, <Friend: Eric>, <Friend: 陆宝华>, <Friend: 林建秋.>, <Friend: 雨忆_《岚》>, <Friend: 王桥龙>, <Friend: 黎玉林>, <Friend: LuChouLu>, <Friend: Python爱好者社区小编>, <Friend: 刘惠章>, <Friend: 颜正兴>, <Friend: 多多倍倍的超人爸爸>, <Friend: 莴苣烧泥鳅>, <Friend: 唐芬DAYTOY>, <Friend: Ben>, <Friend: 郑刚 czife.org>, <Friend: 金刚>, <Friend: 翁杰>, <Friend: 阿津>, <Friend: 专业母指15989044282>, <Friend: 朱利平>, <Friend: k>, <Friend: 毛叔叔副号>, <Friend: 🐟Fish🐟>, <Friend: rowrian～丰>, <Friend: 张清>, <Friend: 七月在线杜老师>, <Friend: 王老湿>, <Friend: 🐯恬淡🐣>, <Friend: 陈江>, <Friend: 沐沐🍪>, <Friend: 谷炜>, <Friend: 厚德载物一一一王钧>, <Friend: K哥>, <Friend: 量化小哥哥🤗>, <Friend: 鬼子六>, <Friend: min>, <Friend: 王寅超>, <Friend: 888888>, <Friend: 王庆伟>, <Friend: 何文峰Sam>, <Friend: 沈刚>, <Friend: kevin>, <Friend: 🤫>, <Friend: simple>, <Friend: AA蓝象知富，林>, <Friend: 张壹哲>, <Friend: 张仲健>, <Friend: 慢慢变老>, <Friend: :)>, <Friend: 钟宇翔>, <Friend: 心想事成🇨🇳>, <Friend: Cindaqh_王佳东>, <Friend: 皮卡酱>, <Friend: 梦想家>, <Friend: Frank Yu>, <Friend: 吴江 17805823380>, <Friend: 青山秀水>, <Friend: 牛红>, <Friend: 直达国际~何柳青>, <Friend: 🐬日理万ʚ喵ɞ>, <Friend: Alex  oh!>, <Friend: 机器>, <Friend: 叫我石头>, <Friend: 黄琼芳>, <Friend: 狮子很安静>, <Friend: a00000京士沙龙烫染纹眉美白牙齿>, <Friend: Gruel>, <Friend: Hui>, <Friend: 退而结网>, <Friend: 卓允>, <Friend: YIN 可>, <Friend: 赵晋湘>, <Friend: 幸福没有捷径>, <Friend: 金沿岑>, <Friend: 荷枫蝶澜>, <Friend: 蟲蟲qian ღ᭄ꦿ>, <Friend: 夏老湿>, <Friend: 丁丁>, <Friend: 马到成功>, <Friend: 清秀将军>, <Friend: 旱鸭子>, <Friend: Roar>, <Friend: 朵 小>, <Friend: Sara-Tian>, <Friend: 张老师>, <Friend: 熊璞>, <Friend: 万门叮小当>, <Friend: 程羽飞@私募基金>, <Friend: 盖哥>, <Friend: 红苹果>, <Friend: W.G.F>, <Friend: Fern 冯君>, <Friend: 木头>, <Friend: ￥kong™•文文|°>, <Friend: 悟>, <Friend: 我爱大自然>, <Friend: SHEN XUAN>, <Friend: 七禾 傅旭鹏>, <Friend: 音吹斯汀Boom>, <Friend: 自律健康快乐崔>, <Friend: 火星瓜>, <Friend: 大树>, <Friend: 朱偉清>, <Friend: 牛婷婷121>, <Friend: 邹炯炯---办公写字楼租赁>, <Friend: 小柒>, <Friend: Zhu🌿zhu>, <Friend: 宋钢>, <Friend: 珍^猪>, <Friend: 李晔>, <Friend: 薄荷>, <Friend: 小谢>, <Friend: LV东🎖>, <Friend: 无名指>, <Friend: 自信是一种美>, <Friend: 庖丁解牛>, <Friend: 笑笑>, <Friend: 薛雨壕>, <Friend: 考拉>, <Friend: 赵剑伟>, <Friend: 骏马奔驰>, <Friend: 电脑猪-上海万源办公设备有限公司>, <Friend: 徐劲松>, <Friend: 新世缘-相亲服务6年兼品牌特卖2年>, <Friend: 吴翌腾>, <Friend: 神仔>, <Friend: 厚德载物>, <Friend: LL>, <Friend: 绎名>, <Friend: Huh>, <Friend: 乔烨Qmacd学量化分析>, <Friend: 商商>, <Friend: 🐰         🌚>, <Friend: Terry wen>, <Friend: 司鑫磊>, <Friend: 2%>, <Friend: 洋洋>, <Friend: 我们还行吧？那当然！>, <Friend: 柏博金融集团@乔>, <Friend: Zz.>, <Friend: 李莺莺（Jenny）>, <Friend: 孙睿>, <Friend: Eleven>, <Friend: 邵帅>, <Friend: ivan>, <Friend: 风起的日子>, <Friend: Charles Dang>, <Friend: Songting>, <Friend: 桔梗>, <Friend: 春江花月夜>, <Friend: 小Q>, <Friend: Senge.善极>, <Friend: s·s(挤痘痘)68>, <Friend: 苗东>]\n"
     ]
    }
   ],
   "source": [
    "from wxpy import *\n",
    "\n",
    "bot = Bot(cache_path = True)\n",
    "\n",
    "#获取全部好友的信息\n",
    "friend_all = bot.friends()\n",
    "\n",
    "#输出 friend_all 看一下\n",
    "print(friend_all)\n",
    "\n",
    "#输出好友数量\n",
    "#print(len(friend_all))"
   ]
  },
  {
   "cell_type": "code",
   "execution_count": 4,
   "metadata": {},
   "outputs": [],
   "source": [
    "#建立一个二维列表，存储基本好友信息\n",
    "lis = [['NickName','Sex','City','Province','Signature','HeadImgUrl','HeadImgFlag']]\n",
    "#把好有特征数据保存为列表\n",
    "for a_friend in friend_all:\n",
    "    #遍历 friend_all, 并使用 raw.get(' ', None), 来获取每一各朋友的基本信息\n",
    "    NickName = a_friend.raw.get('NickName', None)\n",
    "    Sex = {1:\"男\", 2:\"女\", 0:\"其它\"}.get(a_friend.raw.get('Sex', None), None)\n",
    "    City = a_friend.raw.get('City', None)\n",
    "    Province = a_friend.raw.get('Province', None)\n",
    "    Signature = a_friend.raw.get('Signature', None)\n",
    "    HeadImgUrl = a_friend.raw.get('HeadImgUrl', None)\n",
    "    HeadImgFlag = a_friend.raw.get('HeadImgFlag', None)\n",
    "    list_0 = [NickName, Sex, City, Province, Signature, HeadImgUrl, HeadImgFlag]\n",
    "    lis.append(list_0)"
   ]
  },
  {
   "cell_type": "code",
   "execution_count": 5,
   "metadata": {},
   "outputs": [
    {
     "name": "stdout",
     "output_type": "stream",
     "text": [
      "读写数据成功\n"
     ]
    }
   ],
   "source": [
    "#把列表转换为 xlsx 表格\n",
    "    \n",
    "import openpyxl\n",
    "def list_to_xlsx(filename, list):\n",
    "    wb = openpyxl.Workbook()\n",
    "    sheet = wb.active\n",
    "    sheet.title = 'Friends'\n",
    "    file_name = filename + '.xlsx'\n",
    "    for i in range(0, len(list)):\n",
    "        for j in range(0, len(list[i])):\n",
    "            sheet.cell(row = i+1, column = j+1, value = str(list[i][j]))\n",
    "            \n",
    "    wb.save(file_name)\n",
    "    print(\"读写数据成功\")\n",
    "\n",
    "#把列表生成表格\n",
    "list_to_xlsx('wechat_friend', lis)"
   ]
  }
 ],
 "metadata": {
  "kernelspec": {
   "display_name": "Python 3",
   "language": "python",
   "name": "python3"
  },
  "language_info": {
   "codemirror_mode": {
    "name": "ipython",
    "version": 3
   },
   "file_extension": ".py",
   "mimetype": "text/x-python",
   "name": "python",
   "nbconvert_exporter": "python",
   "pygments_lexer": "ipython3",
   "version": "3.7.5"
  }
 },
 "nbformat": 4,
 "nbformat_minor": 2
}
